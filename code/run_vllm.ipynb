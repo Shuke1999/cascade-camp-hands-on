{
 "cells": [
  {
   "cell_type": "code",
   "execution_count": null,
   "id": "17e3a00f-f522-48ba-a331-555f008ea010",
   "metadata": {},
   "outputs": [
    {
     "name": "stdout",
     "output_type": "stream",
     "text": [
      "/usr/local/lib/python3.12/site-packages/transformers/utils/hub.py:105: FutureWarning: Using `TRANSFORMERS_CACHE` is deprecated and will be removed in v5 of Transformers. Use `HF_HOME` instead.\n",
      "  warnings.warn(\n",
      "INFO 08-12 13:46:45 [__init__.py:239] Automatically detected platform cuda.\n",
      "INFO 08-12 13:46:46 [api_server.py:1034] vLLM API server version 0.8.3\n",
      "INFO 08-12 13:46:46 [api_server.py:1035] args: Namespace(host=None, port=8000, uvicorn_log_level='info', disable_uvicorn_access_log=False, allow_credentials=False, allowed_origins=['*'], allowed_methods=['*'], allowed_headers=['*'], api_key=None, lora_modules=None, prompt_adapters=None, chat_template=None, chat_template_content_format='auto', response_role='assistant', ssl_keyfile=None, ssl_certfile=None, ssl_ca_certs=None, enable_ssl_refresh=False, ssl_cert_reqs=0, root_path=None, middleware=[], return_tokens_as_token_ids=False, disable_frontend_multiprocessing=False, enable_request_id_headers=False, enable_auto_tool_choice=False, tool_call_parser=None, tool_parser_plugin='', model='Qwen/Qwen2.5-3B-Instruct', task='auto', tokenizer=None, hf_config_path=None, skip_tokenizer_init=False, revision=None, code_revision=None, tokenizer_revision=None, tokenizer_mode='auto', trust_remote_code=False, allowed_local_media_path=None, download_dir=None, load_format='auto', config_format=<ConfigFormat.AUTO: 'auto'>, dtype='half', kv_cache_dtype='auto', max_model_len=None, guided_decoding_backend='xgrammar', logits_processor_pattern=None, model_impl='auto', distributed_executor_backend=None, pipeline_parallel_size=1, tensor_parallel_size=1, data_parallel_size=1, enable_expert_parallel=False, max_parallel_loading_workers=None, ray_workers_use_nsight=False, block_size=None, enable_prefix_caching=None, prefix_caching_hash_algo='builtin', disable_sliding_window=False, use_v2_block_manager=True, num_lookahead_slots=0, seed=None, swap_space=4, cpu_offload_gb=0, gpu_memory_utilization=0.9, num_gpu_blocks_override=None, max_num_batched_tokens=None, max_num_partial_prefills=1, max_long_partial_prefills=1, long_prefill_token_threshold=0, max_num_seqs=None, max_logprobs=20, disable_log_stats=False, quantization=None, rope_scaling=None, rope_theta=None, hf_overrides=None, enforce_eager=False, max_seq_len_to_capture=8192, disable_custom_all_reduce=False, tokenizer_pool_size=0, tokenizer_pool_type='ray', tokenizer_pool_extra_config=None, limit_mm_per_prompt=None, mm_processor_kwargs=None, disable_mm_preprocessor_cache=False, enable_lora=False, enable_lora_bias=False, max_loras=1, max_lora_rank=16, lora_extra_vocab_size=256, lora_dtype='auto', long_lora_scaling_factors=None, max_cpu_loras=None, fully_sharded_loras=False, enable_prompt_adapter=False, max_prompt_adapters=1, max_prompt_adapter_token=0, device='auto', num_scheduler_steps=1, use_tqdm_on_load=True, multi_step_stream_outputs=True, scheduler_delay_factor=0.0, enable_chunked_prefill=None, speculative_config=None, model_loader_extra_config=None, ignore_patterns=[], preemption_mode=None, served_model_name=None, qlora_adapter_name_or_path=None, show_hidden_metrics_for_version=None, otlp_traces_endpoint=None, collect_detailed_traces=None, disable_async_output_proc=False, scheduling_policy='fcfs', scheduler_cls='vllm.core.scheduler.Scheduler', override_neuron_config=None, override_pooler_config=None, compilation_config=None, kv_transfer_config=None, worker_cls='auto', worker_extension_cls='', generation_config='auto', override_generation_config=None, enable_sleep_mode=False, calculate_kv_scales=False, additional_config=None, enable_reasoning=False, reasoning_parser=None, disable_cascade_attn=False, disable_log_requests=False, max_log_len=None, disable_fastapi_docs=False, enable_prompt_tokens_details=False, enable_server_load_tracking=False)\n",
      "WARNING 08-12 13:46:47 [config.py:2704] Casting torch.bfloat16 to torch.float16.\n",
      "INFO 08-12 13:46:54 [config.py:600] This model supports multiple tasks: {'generate', 'classify', 'reward', 'embed', 'score'}. Defaulting to 'generate'.\n",
      "WARNING 08-12 13:46:54 [arg_utils.py:1708] Compute Capability < 8.0 is not supported by the V1 Engine. Falling back to V0. \n",
      "INFO 08-12 13:46:54 [api_server.py:246] Started engine process with PID 52720\n",
      "/usr/local/lib/python3.12/site-packages/transformers/utils/hub.py:105: FutureWarning: Using `TRANSFORMERS_CACHE` is deprecated and will be removed in v5 of Transformers. Use `HF_HOME` instead.\n",
      "  warnings.warn(\n",
      "INFO 08-12 13:46:58 [__init__.py:239] Automatically detected platform cuda.\n",
      "INFO 08-12 13:46:59 [llm_engine.py:242] Initializing a V0 LLM engine (v0.8.3) with config: model='Qwen/Qwen2.5-3B-Instruct', speculative_config=None, tokenizer='Qwen/Qwen2.5-3B-Instruct', skip_tokenizer_init=False, tokenizer_mode=auto, revision=None, override_neuron_config=None, tokenizer_revision=None, trust_remote_code=False, dtype=torch.float16, max_seq_len=32768, download_dir=None, load_format=LoadFormat.AUTO, tensor_parallel_size=1, pipeline_parallel_size=1, disable_custom_all_reduce=False, quantization=None, enforce_eager=False, kv_cache_dtype=auto,  device_config=cuda, decoding_config=DecodingConfig(guided_decoding_backend='xgrammar', reasoning_backend=None), observability_config=ObservabilityConfig(show_hidden_metrics=False, otlp_traces_endpoint=None, collect_model_forward_time=False, collect_model_execute_time=False), seed=None, served_model_name=Qwen/Qwen2.5-3B-Instruct, num_scheduler_steps=1, multi_step_stream_outputs=True, enable_prefix_caching=None, chunked_prefill_enabled=False, use_async_output_proc=True, disable_mm_preprocessor_cache=False, mm_processor_kwargs=None, pooler_config=None, compilation_config={\"splitting_ops\":[],\"compile_sizes\":[],\"cudagraph_capture_sizes\":[256,248,240,232,224,216,208,200,192,184,176,168,160,152,144,136,128,120,112,104,96,88,80,72,64,56,48,40,32,24,16,8,4,2,1],\"max_capture_size\":256}, use_cached_outputs=True, \n",
      "INFO 08-12 13:47:01 [cuda.py:240] Cannot use FlashAttention-2 backend for Volta and Turing GPUs.\n",
      "INFO 08-12 13:47:01 [cuda.py:289] Using XFormers backend.\n",
      "[W812 13:47:01.842086968 socket.cpp:759] [c10d] The client socket cannot be initialized to connect to [r18g08.bullx]:48087 (errno: 97 - Address family not supported by protocol).\n",
      "INFO 08-12 13:47:01 [parallel_state.py:957] rank 0 in world size 1 is assigned as DP rank 0, PP rank 0, TP rank 0\n",
      "INFO 08-12 13:47:01 [model_runner.py:1110] Starting to load model Qwen/Qwen2.5-3B-Instruct...\n",
      "INFO 08-12 13:47:02 [weight_utils.py:265] Using model weights format ['*.safetensors']\n",
      "Loading safetensors checkpoint shards:   0% Completed | 0/2 [00:00<?, ?it/s]\n",
      "Loading safetensors checkpoint shards:  50% Completed | 1/2 [00:14<00:14, 14.13s/it]\n",
      "Loading safetensors checkpoint shards: 100% Completed | 2/2 [00:30<00:00, 15.60s/it]\n",
      "Loading safetensors checkpoint shards: 100% Completed | 2/2 [00:30<00:00, 15.38s/it]\n",
      "\n",
      "INFO 08-12 13:47:33 [loader.py:447] Loading weights took 30.81 seconds\n",
      "INFO 08-12 13:47:33 [model_runner.py:1146] Model loading took 5.7916 GiB and 31.578426 seconds\n",
      "INFO 08-12 13:47:37 [worker.py:267] Memory profiling takes 3.06 seconds\n",
      "INFO 08-12 13:47:37 [worker.py:267] the current vLLM instance can use total_gpu_memory (31.74GiB) x gpu_memory_utilization (0.90) = 28.57GiB\n",
      "INFO 08-12 13:47:37 [worker.py:267] model weights take 5.79GiB; non_torch_memory takes 0.09GiB; PyTorch activation peak memory takes 2.52GiB; the rest of the memory reserved for KV Cache is 20.16GiB.\n",
      "INFO 08-12 13:47:37 [executor_base.py:112] # cuda blocks: 36703, # CPU blocks: 7281\n",
      "INFO 08-12 13:47:37 [executor_base.py:117] Maximum concurrency for 32768 tokens per request: 17.92x\n",
      "INFO 08-12 13:47:39 [model_runner.py:1456] Capturing cudagraphs for decoding. This may lead to unexpected consequences if the model is not static. To run the model in eager mode, set 'enforce_eager=True' or use '--enforce-eager' in the CLI. If out-of-memory error occurs during cudagraph capture, consider decreasing `gpu_memory_utilization` or switching to eager mode. You can also reduce the `max_num_seqs` as needed to decrease memory usage.\n",
      "Capturing CUDA graph shapes: 100%|██████████████| 35/35 [00:16<00:00,  2.11it/s]\n",
      "INFO 08-12 13:47:55 [model_runner.py:1598] Graph capturing finished in 17 secs, took 1.04 GiB\n",
      "INFO 08-12 13:47:55 [llm_engine.py:448] init engine (profile, create kv cache, warmup model) took 21.86 seconds\n",
      "WARNING 08-12 13:47:56 [config.py:1088] Default sampling parameters have been overridden by the model's Hugging Face generation config recommended from the model creator. If this is not intended, please relaunch vLLM instance with `--generation-config vllm`.\n",
      "INFO 08-12 13:47:56 [serving_chat.py:117] Using default chat sampling params from model: {'repetition_penalty': 1.05, 'temperature': 0.7, 'top_k': 20, 'top_p': 0.8}\n",
      "INFO 08-12 13:47:56 [serving_completion.py:61] Using default completion sampling params from model: {'repetition_penalty': 1.05, 'temperature': 0.7, 'top_k': 20, 'top_p': 0.8}\n",
      "INFO 08-12 13:47:56 [api_server.py:1081] Starting vLLM API server on http://0.0.0.0:8000\n",
      "INFO 08-12 13:47:56 [launcher.py:26] Available routes are:\n",
      "INFO 08-12 13:47:56 [launcher.py:34] Route: /openapi.json, Methods: HEAD, GET\n",
      "INFO 08-12 13:47:56 [launcher.py:34] Route: /docs, Methods: HEAD, GET\n",
      "INFO 08-12 13:47:56 [launcher.py:34] Route: /docs/oauth2-redirect, Methods: HEAD, GET\n",
      "INFO 08-12 13:47:56 [launcher.py:34] Route: /redoc, Methods: HEAD, GET\n",
      "INFO 08-12 13:47:56 [launcher.py:34] Route: /health, Methods: GET\n",
      "INFO 08-12 13:47:56 [launcher.py:34] Route: /load, Methods: GET\n",
      "INFO 08-12 13:47:56 [launcher.py:34] Route: /ping, Methods: POST, GET\n",
      "INFO 08-12 13:47:56 [launcher.py:34] Route: /tokenize, Methods: POST\n",
      "INFO 08-12 13:47:56 [launcher.py:34] Route: /detokenize, Methods: POST\n",
      "INFO 08-12 13:47:56 [launcher.py:34] Route: /v1/models, Methods: GET\n",
      "INFO 08-12 13:47:56 [launcher.py:34] Route: /version, Methods: GET\n",
      "INFO 08-12 13:47:56 [launcher.py:34] Route: /v1/chat/completions, Methods: POST\n",
      "INFO 08-12 13:47:56 [launcher.py:34] Route: /v1/completions, Methods: POST\n",
      "INFO 08-12 13:47:56 [launcher.py:34] Route: /v1/embeddings, Methods: POST\n",
      "INFO 08-12 13:47:56 [launcher.py:34] Route: /pooling, Methods: POST\n",
      "INFO 08-12 13:47:56 [launcher.py:34] Route: /score, Methods: POST\n",
      "INFO 08-12 13:47:56 [launcher.py:34] Route: /v1/score, Methods: POST\n",
      "INFO 08-12 13:47:56 [launcher.py:34] Route: /v1/audio/transcriptions, Methods: POST\n",
      "INFO 08-12 13:47:56 [launcher.py:34] Route: /rerank, Methods: POST\n",
      "INFO 08-12 13:47:56 [launcher.py:34] Route: /v1/rerank, Methods: POST\n",
      "INFO 08-12 13:47:56 [launcher.py:34] Route: /v2/rerank, Methods: POST\n",
      "INFO 08-12 13:47:56 [launcher.py:34] Route: /invocations, Methods: POST\n",
      "INFO 08-12 13:47:56 [launcher.py:34] Route: /metrics, Methods: GET\n",
      "\u001b[32mINFO\u001b[0m:     Started server process [\u001b[36m52657\u001b[0m]\n",
      "\u001b[32mINFO\u001b[0m:     Waiting for application startup.\n",
      "\u001b[32mINFO\u001b[0m:     Application startup complete.\n"
     ]
    }
   ],
   "source": [
    "!python -m vllm.entrypoints.openai.api_server \\\n",
    "    --model 'Qwen/Qwen2.5-3B-Instruct' \\\n",
    "    --dtype=half"
   ]
  },
  {
   "cell_type": "code",
   "execution_count": null,
   "id": "cf49ac97-3422-4fff-a598-e609eac4e837",
   "metadata": {},
   "outputs": [],
   "source": []
  }
 ],
 "metadata": {
  "kernelspec": {
   "display_name": "Python 3 (ipykernel)",
   "language": "python",
   "name": "python3"
  },
  "language_info": {
   "codemirror_mode": {
    "name": "ipython",
    "version": 3
   },
   "file_extension": ".py",
   "mimetype": "text/x-python",
   "name": "python",
   "nbconvert_exporter": "python",
   "pygments_lexer": "ipython3",
   "version": "3.12.8"
  }
 },
 "nbformat": 4,
 "nbformat_minor": 5
}
