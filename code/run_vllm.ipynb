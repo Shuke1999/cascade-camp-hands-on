{
 "cells": [
  {
   "cell_type": "code",
   "execution_count": null,
   "id": "17e3a00f-f522-48ba-a331-555f008ea010",
   "metadata": {},
   "outputs": [
    {
     "name": "stdout",
     "output_type": "stream",
     "text": [
      "/usr/local/lib/python3.12/site-packages/transformers/utils/hub.py:105: FutureWarning: Using `TRANSFORMERS_CACHE` is deprecated and will be removed in v5 of Transformers. Use `HF_HOME` instead.\n",
      "  warnings.warn(\n",
      "INFO 06-21 12:30:57 [__init__.py:239] Automatically detected platform cuda.\n",
      "INFO 06-21 12:31:02 [api_server.py:1034] vLLM API server version 0.8.3\n",
      "INFO 06-21 12:31:02 [api_server.py:1035] args: Namespace(host=None, port=8000, uvicorn_log_level='info', disable_uvicorn_access_log=False, allow_credentials=False, allowed_origins=['*'], allowed_methods=['*'], allowed_headers=['*'], api_key=None, lora_modules=None, prompt_adapters=None, chat_template=None, chat_template_content_format='auto', response_role='assistant', ssl_keyfile=None, ssl_certfile=None, ssl_ca_certs=None, enable_ssl_refresh=False, ssl_cert_reqs=0, root_path=None, middleware=[], return_tokens_as_token_ids=False, disable_frontend_multiprocessing=False, enable_request_id_headers=False, enable_auto_tool_choice=False, tool_call_parser=None, tool_parser_plugin='', model='Qwen/Qwen2.5-3B-Instruct', task='auto', tokenizer=None, hf_config_path=None, skip_tokenizer_init=False, revision=None, code_revision=None, tokenizer_revision=None, tokenizer_mode='auto', trust_remote_code=False, allowed_local_media_path=None, download_dir=None, load_format='auto', config_format=<ConfigFormat.AUTO: 'auto'>, dtype='half', kv_cache_dtype='auto', max_model_len=None, guided_decoding_backend='xgrammar', logits_processor_pattern=None, model_impl='auto', distributed_executor_backend=None, pipeline_parallel_size=1, tensor_parallel_size=1, data_parallel_size=1, enable_expert_parallel=False, max_parallel_loading_workers=None, ray_workers_use_nsight=False, block_size=None, enable_prefix_caching=None, prefix_caching_hash_algo='builtin', disable_sliding_window=False, use_v2_block_manager=True, num_lookahead_slots=0, seed=None, swap_space=4, cpu_offload_gb=0, gpu_memory_utilization=0.9, num_gpu_blocks_override=None, max_num_batched_tokens=None, max_num_partial_prefills=1, max_long_partial_prefills=1, long_prefill_token_threshold=0, max_num_seqs=None, max_logprobs=20, disable_log_stats=False, quantization=None, rope_scaling=None, rope_theta=None, hf_overrides=None, enforce_eager=False, max_seq_len_to_capture=8192, disable_custom_all_reduce=False, tokenizer_pool_size=0, tokenizer_pool_type='ray', tokenizer_pool_extra_config=None, limit_mm_per_prompt=None, mm_processor_kwargs=None, disable_mm_preprocessor_cache=False, enable_lora=False, enable_lora_bias=False, max_loras=1, max_lora_rank=16, lora_extra_vocab_size=256, lora_dtype='auto', long_lora_scaling_factors=None, max_cpu_loras=None, fully_sharded_loras=False, enable_prompt_adapter=False, max_prompt_adapters=1, max_prompt_adapter_token=0, device='auto', num_scheduler_steps=1, use_tqdm_on_load=True, multi_step_stream_outputs=True, scheduler_delay_factor=0.0, enable_chunked_prefill=None, speculative_config=None, model_loader_extra_config=None, ignore_patterns=[], preemption_mode=None, served_model_name=None, qlora_adapter_name_or_path=None, show_hidden_metrics_for_version=None, otlp_traces_endpoint=None, collect_detailed_traces=None, disable_async_output_proc=False, scheduling_policy='fcfs', scheduler_cls='vllm.core.scheduler.Scheduler', override_neuron_config=None, override_pooler_config=None, compilation_config=None, kv_transfer_config=None, worker_cls='auto', worker_extension_cls='', generation_config='auto', override_generation_config=None, enable_sleep_mode=False, calculate_kv_scales=False, additional_config=None, enable_reasoning=False, reasoning_parser=None, disable_cascade_attn=False, disable_log_requests=False, max_log_len=None, disable_fastapi_docs=False, enable_prompt_tokens_details=False, enable_server_load_tracking=False)\n",
      "config.json: 100%|█████████████████████████████| 661/661 [00:00<00:00, 4.14MB/s]\n",
      "WARNING 06-21 12:31:03 [config.py:2704] Casting torch.bfloat16 to torch.float16.\n",
      "INFO 06-21 12:31:17 [config.py:600] This model supports multiple tasks: {'reward', 'generate', 'embed', 'score', 'classify'}. Defaulting to 'generate'.\n",
      "WARNING 06-21 12:31:17 [arg_utils.py:1708] Compute Capability < 8.0 is not supported by the V1 Engine. Falling back to V0. \n",
      "INFO 06-21 12:31:17 [api_server.py:246] Started engine process with PID 4112791\n",
      "tokenizer_config.json: 100%|███████████████| 7.30k/7.30k [00:00<00:00, 30.6MB/s]\n",
      "vocab.json: 100%|██████████████████████████| 2.78M/2.78M [00:00<00:00, 21.9MB/s]\n",
      "merges.txt: 100%|██████████████████████████| 1.67M/1.67M [00:00<00:00, 7.36MB/s]\n",
      "tokenizer.json: 100%|██████████████████████| 7.03M/7.03M [00:00<00:00, 12.5MB/s]\n",
      "/usr/local/lib/python3.12/site-packages/transformers/utils/hub.py:105: FutureWarning: Using `TRANSFORMERS_CACHE` is deprecated and will be removed in v5 of Transformers. Use `HF_HOME` instead.\n",
      "  warnings.warn(\n",
      "INFO 06-21 12:31:24 [__init__.py:239] Automatically detected platform cuda.\n",
      "INFO 06-21 12:31:27 [llm_engine.py:242] Initializing a V0 LLM engine (v0.8.3) with config: model='Qwen/Qwen2.5-3B-Instruct', speculative_config=None, tokenizer='Qwen/Qwen2.5-3B-Instruct', skip_tokenizer_init=False, tokenizer_mode=auto, revision=None, override_neuron_config=None, tokenizer_revision=None, trust_remote_code=False, dtype=torch.float16, max_seq_len=32768, download_dir=None, load_format=LoadFormat.AUTO, tensor_parallel_size=1, pipeline_parallel_size=1, disable_custom_all_reduce=False, quantization=None, enforce_eager=False, kv_cache_dtype=auto,  device_config=cuda, decoding_config=DecodingConfig(guided_decoding_backend='xgrammar', reasoning_backend=None), observability_config=ObservabilityConfig(show_hidden_metrics=False, otlp_traces_endpoint=None, collect_model_forward_time=False, collect_model_execute_time=False), seed=None, served_model_name=Qwen/Qwen2.5-3B-Instruct, num_scheduler_steps=1, multi_step_stream_outputs=True, enable_prefix_caching=None, chunked_prefill_enabled=False, use_async_output_proc=True, disable_mm_preprocessor_cache=False, mm_processor_kwargs=None, pooler_config=None, compilation_config={\"splitting_ops\":[],\"compile_sizes\":[],\"cudagraph_capture_sizes\":[256,248,240,232,224,216,208,200,192,184,176,168,160,152,144,136,128,120,112,104,96,88,80,72,64,56,48,40,32,24,16,8,4,2,1],\"max_capture_size\":256}, use_cached_outputs=True, \n",
      "generation_config.json: 100%|██████████████████| 242/242 [00:00<00:00, 1.47MB/s]\n",
      "INFO 06-21 12:31:30 [cuda.py:240] Cannot use FlashAttention-2 backend for Volta and Turing GPUs.\n",
      "INFO 06-21 12:31:30 [cuda.py:289] Using XFormers backend.\n",
      "[W621 12:31:31.610740579 socket.cpp:759] [c10d] The client socket cannot be initialized to connect to [r04g01.bullx]:59899 (errno: 97 - Address family not supported by protocol).\n",
      "INFO 06-21 12:31:31 [parallel_state.py:957] rank 0 in world size 1 is assigned as DP rank 0, PP rank 0, TP rank 0\n",
      "INFO 06-21 12:31:31 [model_runner.py:1110] Starting to load model Qwen/Qwen2.5-3B-Instruct...\n",
      "INFO 06-21 12:31:33 [weight_utils.py:265] Using model weights format ['*.safetensors']\n",
      "model-00001-of-00002.safetensors:   0%|             | 0.00/3.97G [00:00<?, ?B/s]\n",
      "model-00002-of-00002.safetensors:   0%|             | 0.00/2.20G [00:00<?, ?B/s]\u001b[A\n",
      "model-00001-of-00002.safetensors:   1%|    | 25.1M/3.97G [00:12<23:21, 2.81MB/s]\u001b[A\n",
      "model-00002-of-00002.safetensors:   1%|    | 26.3M/2.20G [00:12<12:33, 2.89MB/s]\u001b[A\n",
      "model-00002-of-00002.safetensors:   1%|    | 30.5M/2.20G [00:12<10:20, 3.50MB/s]\u001b[A\n",
      "model-00002-of-00002.safetensors:   3%|    | 63.0M/2.20G [00:12<03:28, 10.2MB/s]\u001b[A\n",
      "model-00002-of-00002.safetensors:   6%|▎    | 130M/2.20G [00:13<01:12, 28.6MB/s]\u001b[A\n",
      "model-00002-of-00002.safetensors:   7%|▎    | 163M/2.20G [00:13<00:59, 34.4MB/s]\u001b[A\n",
      "model-00001-of-00002.safetensors:   1%|    | 44.1M/3.97G [00:13<13:25, 4.87MB/s]\u001b[A\n",
      "model-00002-of-00002.safetensors:  12%|▌    | 254M/2.20G [00:14<00:32, 60.5MB/s]\u001b[A\n",
      "model-00001-of-00002.safetensors:   2%|    | 63.5M/3.97G [00:14<09:18, 6.99MB/s]\u001b[A\n",
      "model-00001-of-00002.safetensors:  11%|▋     | 426M/3.97G [00:16<00:33, 106MB/s]\u001b[A\n",
      "model-00001-of-00002.safetensors:  12%|▋     | 493M/3.97G [00:16<00:25, 137MB/s]\u001b[A\n",
      "model-00001-of-00002.safetensors:  13%|▊     | 517M/3.97G [00:17<00:30, 112MB/s]\u001b[A\n",
      "model-00001-of-00002.safetensors:  17%|█     | 667M/3.97G [00:18<00:30, 108MB/s]\u001b[A\n",
      "model-00002-of-00002.safetensors:  22%|█    | 476M/2.20G [00:19<00:55, 31.0MB/s]\u001b[A\n",
      "model-00002-of-00002.safetensors:  22%|█    | 487M/2.20G [00:19<00:51, 33.2MB/s]\u001b[A\n",
      "model-00002-of-00002.safetensors:  23%|█▏   | 499M/2.20G [00:19<00:46, 36.4MB/s]\u001b[A\n",
      "model-00002-of-00002.safetensors:  23%|█▏   | 508M/2.20G [00:19<00:41, 40.6MB/s]\u001b[A\n",
      "model-00002-of-00002.safetensors:  27%|█▌    | 593M/2.20G [00:20<00:15, 103MB/s]\u001b[A\n",
      "model-00001-of-00002.safetensors:  18%|▉    | 711M/3.97G [00:20<00:57, 57.1MB/s]\u001b[A\n",
      "model-00001-of-00002.safetensors:  21%|█▎    | 842M/3.97G [00:21<00:27, 112MB/s]\u001b[A\n",
      "model-00001-of-00002.safetensors:  24%|█▍    | 972M/3.97G [00:22<00:20, 143MB/s]\u001b[A\n",
      "model-00002-of-00002.safetensors:  33%|█▋   | 730M/2.20G [00:22<00:27, 53.4MB/s]\u001b[A\n",
      "model-00001-of-00002.safetensors:  29%|█▍   | 1.13G/3.97G [00:23<00:19, 142MB/s]\u001b[A\n",
      "model-00002-of-00002.safetensors:  39%|█▉   | 851M/2.20G [00:23<00:17, 77.3MB/s]\u001b[A\n",
      "model-00002-of-00002.safetensors:  41%|██   | 900M/2.20G [00:23<00:13, 93.4MB/s]\u001b[A\n",
      "model-00001-of-00002.safetensors:  32%|█▌   | 1.27G/3.97G [00:24<00:17, 158MB/s]\u001b[A\n",
      "model-00002-of-00002.safetensors:  48%|██▍  | 1.06G/2.20G [00:24<00:08, 141MB/s]\u001b[A\n",
      "model-00001-of-00002.safetensors:  34%|█▋   | 1.35G/3.97G [00:24<00:15, 168MB/s]\u001b[A\n",
      "model-00001-of-00002.safetensors:  36%|█▊   | 1.41G/3.97G [00:25<00:16, 158MB/s]\u001b[A\n",
      "model-00001-of-00002.safetensors:  38%|█▉   | 1.51G/3.97G [00:26<00:17, 137MB/s]\u001b[A\n",
      "model-00002-of-00002.safetensors:  54%|██▏ | 1.18G/2.20G [00:26<00:16, 60.5MB/s]\u001b[A\n",
      "model-00002-of-00002.safetensors:  58%|██▉  | 1.27G/2.20G [00:27<00:09, 102MB/s]\u001b[A\n",
      "model-00001-of-00002.safetensors:  40%|█▌  | 1.60G/3.97G [00:27<00:25, 93.1MB/s]\u001b[A\n",
      "model-00002-of-00002.safetensors:  62%|███  | 1.38G/2.20G [00:27<00:07, 109MB/s]\u001b[A\n",
      "model-00001-of-00002.safetensors:  42%|██   | 1.69G/3.97G [00:28<00:22, 101MB/s]\u001b[A\n",
      "model-00002-of-00002.safetensors:  68%|███▍ | 1.50G/2.20G [00:28<00:05, 116MB/s]\u001b[A\n",
      "model-00001-of-00002.safetensors:  43%|█▋  | 1.72G/3.97G [00:29<00:24, 91.6MB/s]\u001b[A\n",
      "model-00001-of-00002.safetensors:  44%|██▏  | 1.75G/3.97G [00:29<00:20, 109MB/s]\u001b[A\n",
      "model-00002-of-00002.safetensors:  76%|███▊ | 1.68G/2.20G [00:29<00:03, 152MB/s]\u001b[A\n",
      "model-00001-of-00002.safetensors:  48%|██▍  | 1.90G/3.97G [00:30<00:15, 132MB/s]\u001b[A\n",
      "model-00001-of-00002.safetensors:  50%|██▍  | 1.97G/3.97G [00:30<00:14, 142MB/s]\u001b[A\n",
      "model-00001-of-00002.safetensors:  50%|██▌  | 1.99G/3.97G [00:31<00:17, 111MB/s]\u001b[A\n",
      "model-00001-of-00002.safetensors:  57%|██▊  | 2.25G/3.97G [00:32<00:06, 249MB/s]\u001b[A\n",
      "model-00001-of-00002.safetensors:  59%|██▉  | 2.36G/3.97G [00:33<00:10, 151MB/s]\u001b[A\n",
      "model-00001-of-00002.safetensors:  61%|███  | 2.43G/3.97G [00:33<00:09, 165MB/s]\u001b[A\n",
      "model-00002-of-00002.safetensors: 100%|████| 2.20G/2.20G [00:33<00:00, 65.6MB/s]\u001b[A\n",
      "model-00001-of-00002.safetensors: 100%|████| 3.97G/3.97G [00:39<00:00, 99.7MB/s]\n",
      "INFO 06-21 12:32:14 [weight_utils.py:281] Time spent downloading weights for Qwen/Qwen2.5-3B-Instruct: 41.331058 seconds\n",
      "model.safetensors.index.json: 100%|████████| 35.6k/35.6k [00:00<00:00, 16.3MB/s]\n",
      "Loading safetensors checkpoint shards:   0% Completed | 0/2 [00:00<?, ?it/s]\n"
     ]
    }
   ],
   "source": [
    "!python -m vllm.entrypoints.openai.api_server \\\n",
    "    --model 'Qwen/Qwen2.5-3B-Instruct' \\\n",
    "    --dtype=half"
   ]
  },
  {
   "cell_type": "code",
   "execution_count": null,
   "id": "cf49ac97-3422-4fff-a598-e609eac4e837",
   "metadata": {},
   "outputs": [],
   "source": []
  }
 ],
 "metadata": {
  "kernelspec": {
   "display_name": "Python 3 (ipykernel)",
   "language": "python",
   "name": "python3"
  },
  "language_info": {
   "codemirror_mode": {
    "name": "ipython",
    "version": 3
   },
   "file_extension": ".py",
   "mimetype": "text/x-python",
   "name": "python",
   "nbconvert_exporter": "python",
   "pygments_lexer": "ipython3",
   "version": "3.12.8"
  }
 },
 "nbformat": 4,
 "nbformat_minor": 5
}
